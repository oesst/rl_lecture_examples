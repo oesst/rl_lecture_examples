{
 "cells": [
  {
   "cell_type": "code",
   "execution_count": 80,
   "id": "fac666f3",
   "metadata": {},
   "outputs": [
    {
     "data": {
      "text/html": [
       "<style>.container { width:60% !important; }</style>"
      ],
      "text/plain": [
       "<IPython.core.display.HTML object>"
      ]
     },
     "metadata": {},
     "output_type": "display_data"
    }
   ],
   "source": [
    "from IPython.core.display import display, HTML\n",
    "display(HTML(\"<style>.container { width:60% !important; }</style>\"))"
   ]
  },
  {
   "cell_type": "markdown",
   "id": "7c4806c7",
   "metadata": {},
   "source": [
    "# Planning by Dynamic Programming\n",
    "\n",
    "#toDo write here what and how we are implementing"
   ]
  },
  {
   "cell_type": "code",
   "execution_count": 2,
   "id": "40e51a4a",
   "metadata": {},
   "outputs": [],
   "source": [
    "import numpy as np\n",
    "import matplotlib.pyplot as plt\n",
    "import plotting\n",
    "plotting.set_layout(drawing_size=15)\n"
   ]
  },
  {
   "cell_type": "markdown",
   "id": "e9cc092c",
   "metadata": {},
   "source": [
    "## Define the Environment\n",
    "\n",
    "* In every state (except goal state) a moment has a cost of -1\n",
    "* In a goal state, thers is no cost for moving\n"
   ]
  },
  {
   "cell_type": "code",
   "execution_count": 197,
   "id": "6d5d92b4",
   "metadata": {},
   "outputs": [],
   "source": [
    "\n",
    "class environment():\n",
    "    \"\"\" This class defines all the necessary properties of the environment. \n",
    "        For now, the environment is a nxn rectangular grid\"\"\"\n",
    "    \n",
    "    def __init__(self,n=5,s_start=(0,0),s_goals=[(4,4)]):\n",
    "        \"\"\" n: defines the length and width of the environment\n",
    "            s_start: defines the starting position of the agent (x-,y-position)\n",
    "            \"\"\" \n",
    "        \n",
    "        # Define the grid\n",
    "        self.n_grid = n\n",
    "#         self.grid = np.\n",
    "        \n",
    "        # Agent position\n",
    "        self.x_agent = s_start[0]\n",
    "        self.y_agent = s_start[1]\n",
    "        # Agent actions\n",
    "        self.actions = ['n','e','s','w']\n",
    "        \n",
    "        # Define rewards\n",
    "        self.rewards = np.ones((n,n)) * (-1)\n",
    "        # Define goal states\n",
    "        self.s_goals = s_goals\n",
    "        for g_i,g in enumerate(s_goals):\n",
    "            self.rewards[g] = 0\n",
    "            \n",
    "            \n",
    "            \n",
    "    \n",
    "    \n",
    "    def move(self,a=None,state=None):\n",
    "        \"\"\" Moves the agent from its current state to the next state given action a\n",
    "            and returns a reward for that movement (cost of current state or new state ??)\n",
    "            a: is the action\n",
    "            state: is optional and can be the state from which the action is executed\n",
    "            \n",
    "        \"\"\"\n",
    "\n",
    "        assert(a in self.actions)\n",
    "        \n",
    "        # If state is given, use it as an indication that the movement is just simulated.\n",
    "        # Do not update internal states\n",
    "        if state:\n",
    "            x_s = state[0]\n",
    "            y_s = state[1]\n",
    "        else:\n",
    "            x_s = self.x_agent\n",
    "            y_s = self.y_agent\n",
    "            \n",
    "        # If agent is in a goal state, do not move anymore\n",
    "        if (x_s, y_s) in self.s_goals:\n",
    "            return x_s,y_s\n",
    "        \n",
    "        x = x_s\n",
    "        y = y_s\n",
    "        \n",
    "        # execute movement. For now, the environment is deterministic\n",
    "        if a == 'n':\n",
    "            y = y -1\n",
    "        if a == 's':\n",
    "            y = y +1\n",
    "        if a == 'e':\n",
    "            x = x +1\n",
    "        if a == 'w':\n",
    "            x = x -1\n",
    "        \n",
    "        # make sure to stay in the environment. if an acion moves the agent outside, just remain in current state\n",
    "        if x < 0 or y < 0 or x >= self.n_grid or y >= self.n_grid:\n",
    "            # do nothing and return rewards of current state\n",
    "            return x_s,y_s\n",
    "        else:\n",
    "            # set new state and return rewards of new state\n",
    "            \n",
    "            # update internal variables if its a real movement\n",
    "            if state:\n",
    "                pass\n",
    "            else:\n",
    "                self.x_agent = x\n",
    "                self.y_agent = y\n",
    "            return x,y\n",
    "    \n",
    "    def get_reward(self, state):\n",
    "        # Returns the reward for a given state\n",
    "        return self.rewards[state[0],state[1]]\n",
    "        \n",
    "    \n",
    "    def plot_env(self):\n",
    "        \"\"\" Plots the with the agent's position and rewars\"\"\"\n",
    "        \n",
    "        fig = plt.figure(figsize=(10,5))\n",
    "        \n",
    "        axes = fig.subplots(1,2)\n",
    "        \n",
    "        # Agent's position\n",
    "        ax = axes[0]\n",
    "        grid = np.zeros((self.n_grid,self.n_grid))\n",
    "        grid[self.y_agent,self.x_agent] = 0.01\n",
    "        ax.matshow(grid, cmap='jet')\n",
    "        ax.set_title('Agent\\'s Position')\n",
    "\n",
    "        # Rewards\n",
    "        ax = axes[1]\n",
    "        ax.matshow(self.rewards)\n",
    "        \n",
    "        for (i, j), z in np.ndenumerate(self.rewards):\n",
    "            ax.text(j, i, '{:0.1f}'.format(z), ha='center', va='center')\n",
    "        \n",
    "        ax.set_title('Rewards')\n",
    "\n",
    "            \n",
    "        plt.show()\n",
    "        \n"
   ]
  },
  {
   "cell_type": "code",
   "execution_count": 194,
   "id": "4a79cb5e",
   "metadata": {},
   "outputs": [
    {
     "data": {
      "text/plain": [
       "False"
      ]
     },
     "execution_count": 194,
     "metadata": {},
     "output_type": "execute_result"
    }
   ],
   "source": [
    "(3,4) in [(3,5),(3,9)]"
   ]
  },
  {
   "cell_type": "markdown",
   "id": "0b39364d",
   "metadata": {},
   "source": [
    "## Define the Agent\n",
    "\n",
    "Agent stores:\n",
    "* the policy\n",
    "* value function\n",
    "* etc."
   ]
  },
  {
   "cell_type": "code",
   "execution_count": 208,
   "id": "6776f1c5",
   "metadata": {},
   "outputs": [],
   "source": [
    "\n",
    "class agents():\n",
    "    \"\"\" This class defines the agent \n",
    "    \"\"\"\n",
    "    \n",
    "    def __init__(self,n=5, gamma=1, pos_start=(0,0),env=None):\n",
    "        \"\"\" n: defines the length and width of the environment\n",
    "            gamma: the discount factor\n",
    "            pos_start: defines the starting position of the agent (x-,y-position)\n",
    "            env: an environment class to use as an internal model\n",
    "            \"\"\" \n",
    "        \n",
    "        if env:\n",
    "            self.model_env = env\n",
    "        else:\n",
    "            print('No environment given. Cannot simulate movements')\n",
    "        \n",
    "        # Store the discount factor \n",
    "        self.gamma = gamma\n",
    "        \n",
    "        # Store size of environment\n",
    "        self.n_grid = n\n",
    "        \n",
    "        # set the starting position\n",
    "        self.x = pos_start[0]\n",
    "        self.y = pos_start[1]\n",
    "            \n",
    "        # Store the value function for each state\n",
    "        # start with zero\n",
    "        self.v = np.zeros((n,n))\n",
    "        \n",
    "        # Initialize the policy\n",
    "        # initially the probability to choose an action given a state is 1/4 \n",
    "        self.policy = np.ones((self.n_grid,self.n_grid,len(self.model_env.actions))) / 4\n",
    "        \n",
    "        # Define transition matrix P^a_ss\n",
    "        self.P = np.zeros((self.n_grid,self.n_grid,len(self.model_env.actions)))\n",
    "    \n",
    "\n",
    "        \n",
    "        \n",
    "    \n",
    "    def random_move(self):\n",
    "        # Chooses a random movement (independent of the state)\n",
    "        i = np.random.randint(0,len(self.actions))\n",
    "        return self.actions[i]\n",
    "    \n",
    "    \n",
    "    def udate_policy(self):\n",
    "        #\n",
    "        pass\n",
    "    \n",
    "    \n",
    "    def policy_iteration(self):\n",
    "        # Given the reward update the value function of all states\n",
    "#         self.v[self.y,self.x] = r + self.gamma * np.sum(  ) \n",
    "        v = np.zeros(self.v.shape)\n",
    "        # walk over all states\n",
    "        for i in range(np.size(self.v,0)):\n",
    "            for ii in range(np.size(self.v,1)):\n",
    "                # walk over all actions accoriding to the policy\n",
    "                for a_i,a_probability in enumerate(self.policy[i,i]):\n",
    "                    # walk over alle possible reachable states given that acion\n",
    "                    if a_i == 0:\n",
    "                        a = 'n'\n",
    "                    if a_i == 1:\n",
    "                        a = 'e'\n",
    "                    if a_i == 2:\n",
    "                        a = 's'\n",
    "                    if a_i == 3:\n",
    "                        a = 'w'\n",
    "                            \n",
    "                    # simulate movement\n",
    "                    x,y = self.model_env.move(a,(i,ii))\n",
    "                    v[i,ii] += a_probability * ( self.model_env.rewards[i,ii] + self.gamma * self.v[x,y])\n",
    "        \n",
    "        self.v = np.copy(v)\n",
    "                    "
   ]
  },
  {
   "cell_type": "code",
   "execution_count": 221,
   "id": "ce01de03",
   "metadata": {
    "scrolled": false
   },
   "outputs": [
    {
     "data": {
      "image/png": "[encoded data removed]",
      "text/plain": [
       "<Figure size 1000x500 with 2 Axes>"
      ]
     },
     "metadata": {
      "needs_background": "light"
     },
     "output_type": "display_data"
    },
    {
     "data": {
      "image/png": "[encoded data removed]",
      "text/plain": [
       "<Figure size 500x500 with 2 Axes>"
      ]
     },
     "metadata": {
      "needs_background": "light"
     },
     "output_type": "display_data"
    }
   ],
   "source": [
    "n = 4\n",
    "agent_start = (1,1)\n",
    "goal_states = [(0,0),(3,3)]\n",
    "gamma = 1\n",
    "\n",
    "env = environment(n=4, s_start=agent_start,s_goals=goal_states)\n",
    "agent = agents(n=4, gamma = gamma, pos_start=agent_start,env=env)\n",
    "\n",
    "env.plot_env()\n",
    "\n",
    "\n",
    "\n",
    "for i in range(100):\n",
    "    agent.policy_iteration()\n",
    "\n",
    "fig =plt.figure(figsize=(5,5))\n",
    "ax = fig.add_subplot(111)\n",
    "c = ax.matshow(agent.v)\n",
    "for (i, j), z in np.ndenumerate(agent.v):\n",
    "    ax.text(j, i, '{:0.1f}'.format(z), ha='center', va='center')\n",
    "plt.colorbar(c)\n",
    "plt.show()        "
   ]
  },
  {
   "cell_type": "code",
   "execution_count": 207,
   "id": "9a925262",
   "metadata": {},
   "outputs": [
    {
     "data": {
      "text/plain": [
       "array([[ 0.    , -5.9375, -6.9375, -7.    , -7.    ],\n",
       "       [-5.9375, -6.875 , -7.    , -7.    , -7.    ],\n",
       "       [-6.9375, -7.    , -7.    , -7.    , -6.9375],\n",
       "       [-7.    , -7.    , -7.    , -6.875 , -5.9375],\n",
       "       [-7.    , -7.    , -6.9375, -5.9375,  0.    ]])"
      ]
     },
     "execution_count": 207,
     "metadata": {},
     "output_type": "execute_result"
    }
   ],
   "source": [
    "agent.v"
   ]
  },
  {
   "cell_type": "code",
   "execution_count": null,
   "id": "35b16189",
   "metadata": {},
   "outputs": [],
   "source": []
  },
  {
   "cell_type": "code",
   "execution_count": null,
   "id": "4e0f6c5c",
   "metadata": {},
   "outputs": [],
   "source": []
  }
 ],
 "metadata": {
  "kernelspec": {
   "display_name": "rl_course",
   "language": "python",
   "name": "rl_course"
  },
  "language_info": {
   "codemirror_mode": {
    "name": "ipython",
    "version": 3
   },
   "file_extension": ".py",
   "mimetype": "text/x-python",
   "name": "python",
   "nbconvert_exporter": "python",
   "pygments_lexer": "ipython3",
   "version": "3.8.10"
  }
 },
 "nbformat": 4,
 "nbformat_minor": 5
}
