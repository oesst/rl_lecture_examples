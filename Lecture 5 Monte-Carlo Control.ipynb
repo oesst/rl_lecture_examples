{
 "cells": [
  {
   "cell_type": "code",
   "execution_count": 1,
   "id": "ff4299e7",
   "metadata": {},
   "outputs": [
    {
     "data": {
      "text/html": [
       "<style>.container { width:60% !important; }</style>"
      ],
      "text/plain": [
       "<IPython.core.display.HTML object>"
      ]
     },
     "metadata": {},
     "output_type": "display_data"
    }
   ],
   "source": [
    "from IPython.core.display import display, HTML\n",
    "display(HTML(\"<style>.container { width:60% !important; }</style>\"))"
   ]
  },
  {
   "cell_type": "markdown",
   "id": "f19dbb8b",
   "metadata": {},
   "source": [
    "# Monte Carlo Control\n",
    "\n",
    "So far, we assumed that we know the underlying model of the environment and that the agent has access to it. \n",
    "Now, we considere the case in which do not have access to the full MDP. That is, we do __model-free prediction__ now.\n",
    "\n",
    "To illustrate this, we implement the black jack example from the RL Lecture 5 by Davin Silver for Monte Carlo Control [see example](https://youtu.be/0g4j2k_Ggc4?t=2193)\n",
    "\n",
    "We use Monte-Carlo policy evaluation based on the action-value function $Q=q_\\pi$ and then a $\\epsilon$-greedy exploration (greedy exploration with probability to choose a random move).\n",
    "\n",
    "Remember: $ G_t = R_{t+1} + \\gamma R_{t+2} + ... + \\sum_{k=0} \\gamma^k \\cdot R_{t+k+1}$\n",
    "\n",
    "__Algorithm:__\n",
    "* Update $V(s)$ incrementally after each episode\n",
    "* For each state $S_t$ with return $G_t$ do:\n",
    "    * $N(S_t) \\gets N(S_t) +1$\n",
    "    * $Q(S_t,A_t) \\gets Q(S_t,A_t) + \\frac{1}{N(S_t)} \\cdot (G_t - V(S_t,A_t))$\n",
    "        * Which corresponds to the _actual return_ ($G_t$) - the _estimated return_ ($Q(S_t,A_t)$)\n",
    "        * $\\frac{1}{N(S_t)}$ is a weighting factor that let us forget old episodes slowly\n",
    "* Improve policy based on new action-value function\n",
    "    * $\\epsilon \\gets \\frac{1}{k}$\n",
    "    * $\\lambda \\gets \\epsilon-greedy(Q)$\n",
    "\n",
    "MC converges to solution with minimum mean squared error."
   ]
  },
  {
   "cell_type": "code",
   "execution_count": 2,
   "id": "64046874",
   "metadata": {},
   "outputs": [],
   "source": [
    "import numpy as np\n",
    "import matplotlib.pyplot as plt\n",
    "import matplotlib.ticker as ticker\n",
    "import plotting\n",
    "from operator import itemgetter\n",
    "plotting.set_layout(drawing_size=15)\n"
   ]
  },
  {
   "cell_type": "markdown",
   "id": "eb81f80d",
   "metadata": {},
   "source": [
    "## The Environment\n",
    "\n",
    "For this example we use the python package [gym](https://gym.openai.com/docs/) which provides a ready-to-use implementation of a BlackJack environment.\n",
    "\n",
    "The states are stored in this tuple format: \\n(Agent's score , Dealer's visible score, and whether or not the agent has a usable ace)\n",
    "\n",
    "Here, we can look at the number of different states:"
   ]
  },
  {
   "cell_type": "code",
   "execution_count": 3,
   "id": "01019081",
   "metadata": {},
   "outputs": [
    {
     "data": {
      "text/plain": [
       "Tuple(Discrete(32), Discrete(11), Discrete(2))"
      ]
     },
     "execution_count": 3,
     "metadata": {},
     "output_type": "execute_result"
    }
   ],
   "source": [
    "import gym\n",
    "env = gym.make('Blackjack-v0')\n",
    "env.observation_space"
   ]
  },
  {
   "cell_type": "markdown",
   "id": "cb4f165c",
   "metadata": {},
   "source": [
    "And the number of actions we can take:"
   ]
  },
  {
   "cell_type": "code",
   "execution_count": 4,
   "id": "49e82039",
   "metadata": {
    "scrolled": true
   },
   "outputs": [
    {
     "data": {
      "text/plain": [
       "Discrete(2)"
      ]
     },
     "execution_count": 4,
     "metadata": {},
     "output_type": "execute_result"
    }
   ],
   "source": [
    "env.action_space"
   ]
  },
  {
   "cell_type": "markdown",
   "id": "771794eb",
   "metadata": {},
   "source": [
    "To start a game call `env.reset()` which will return the obersavtion space"
   ]
  },
  {
   "cell_type": "code",
   "execution_count": 5,
   "id": "822def29",
   "metadata": {},
   "outputs": [
    {
     "data": {
      "text/plain": [
       "(19, 3, False)"
      ]
     },
     "execution_count": 5,
     "metadata": {},
     "output_type": "execute_result"
    }
   ],
   "source": [
    "env.reset()"
   ]
  },
  {
   "cell_type": "markdown",
   "id": "dafdab19",
   "metadata": {},
   "source": [
    "We can take two different actions: `hit` = 1 or `stay` = 0. \n",
    "\n",
    "The result of this function call shows the _obersavtion space_, the reward (winning=+1, loosing =-1) and if the game is over, "
   ]
  },
  {
   "cell_type": "code",
   "execution_count": 6,
   "id": "beb6e976",
   "metadata": {},
   "outputs": [
    {
     "data": {
      "text/plain": [
       "((24, 3, False), -1.0, True, {})"
      ]
     },
     "execution_count": 6,
     "metadata": {},
     "output_type": "execute_result"
    }
   ],
   "source": [
    "env.step(1)"
   ]
  },
  {
   "cell_type": "markdown",
   "id": "0b89a1cb",
   "metadata": {},
   "source": [
    "## Define the Agent\n",
    "\n"
   ]
  },
  {
   "cell_type": "code",
   "execution_count": 7,
   "id": "a50eca49",
   "metadata": {},
   "outputs": [],
   "source": [
    "\n",
    "class agents():\n",
    "    \"\"\" This class defines the agent \n",
    "    \"\"\"\n",
    "    \n",
    "    def __init__(self, state_space, action_space, ):\n",
    "        \"\"\" TODO \"\"\" \n",
    "        \n",
    "        # Store the discount factor \n",
    "        self.gamma = 1\n",
    "        # Store the epsilon parameters\n",
    "        self.epsilon = 1\n",
    "        \n",
    "        n_player_states = state_space[0].n\n",
    "        n_dealer_states = state_space[1].n\n",
    "        n_usable_ace = state_space[0].n\n",
    "        \n",
    "        # two available actions stay (0) and hit (1)\n",
    "        self.actions = list(range(action_space.n))\n",
    "        \n",
    "        # Store the action value function for each state and action\n",
    "        self.q = np.zeros((n_player_states,n_dealer_states,n_usable_ace, action_space.n))\n",
    "        \n",
    "        # incremental counter for a state\n",
    "        self.N = np.zeros((n_player_states,n_dealer_states,n_usable_ace,action_space.n))\n",
    "        \n",
    "\n",
    "    \n",
    "    def greedy_move(self,s, k_episode):\n",
    "        # given a state return the next move according to epsilon greedy algorithm\n",
    "        \n",
    "        # find optimal action a^*\n",
    "        v_a = []\n",
    "        for i_a,a in enumerate(self.actions):\n",
    "            # get value for action state pair\n",
    "            s2 = 1 if s[2] else 0\n",
    "            v = self.q[s[0],s[1],s2,a]\n",
    "            v_a.append((v,a))\n",
    "        \n",
    "        # get action with maximal value\n",
    "        a_max = max(v_a,key=itemgetter(0))[1]\n",
    "        \n",
    "        # with probabiliyt 1-eps execute the best action otherwise choose other action\n",
    "        if np.random.rand() < (1-self.epsilon):\n",
    "            a = a_max\n",
    "        else:\n",
    "            a = int(not a_max)\n",
    "        \n",
    "        # decrement epsilon\n",
    "        self.epsilon = 1/(k_episode)\n",
    "        \n",
    "        return a\n",
    "    \n",
    "    \n",
    "    def incre_counter(self, state, action):\n",
    "        # Increments the counter for a given state and action \n",
    "        \n",
    "        # convert the true/false state to 0/1\n",
    "        s2 = 1 if state[2] else 0\n",
    "        # increment the counter for that state\n",
    "        self.N[state[0],state[1],s2,action] += 1\n",
    "        \n",
    "    def get_counter(self, state, action):\n",
    "        # convert the true/false state to 0/1\n",
    "        s2 = 1 if state[2] else 0\n",
    "        # increment the counter for that state\n",
    "        return self.N[state[0],state[1],s2,action]\n",
    "    \n",
    "    def policy_evaluation(self,all_states,all_rewards, all_actions):\n",
    "        # Update V(s) incrementally \n",
    "        for i_s,s in enumerate(all_states):\n",
    "            \n",
    "            # get corresponding action for given state\n",
    "            a = all_actions[i_s]\n",
    "            \n",
    "            # convert the true/false state to 0/1\n",
    "            s2 = 1 if s[2] else 0\n",
    "            # Get the value function for that state\n",
    "            Q_s = self.q[s[0],s[1],s2,a]\n",
    "            # calculate the total reward\n",
    "            G = np.sum([agent.gamma**k * r for k,r in enumerate(all_rewards)])\n",
    "            # Update the value funtion\n",
    "            self.q[s[0],s[1],s2,a] = Q_s + 1/self.get_counter(s,a) * (G - Q_s)\n",
    "    \n"
   ]
  },
  {
   "cell_type": "code",
   "execution_count": 13,
   "id": "9a108667",
   "metadata": {
    "scrolled": false
   },
   "outputs": [],
   "source": [
    "# how many episodes should be played\n",
    "n_episodes = 500000\n",
    "# initialize the agent. let it know the number of states and actions\n",
    "agent = agents(env.observation_space, env.action_space)\n",
    "\n",
    "# Incremental MC updates\n",
    "# Play one episode then update V(s)\n",
    "for i in range(n_episodes):\n",
    "    all_states = []\n",
    "    all_rewards = []\n",
    "    all_actions = []\n",
    "    \n",
    "    # start the game\n",
    "    s = env.reset()\n",
    "    \n",
    "\n",
    "    # play until environment tells you that the game is over\n",
    "    game_ended = False\n",
    "    while not game_ended:\n",
    "        # increment counter\n",
    "        \n",
    "        # choose a movement according to eps-greedy algorithm and update policy\n",
    "        move = agent.greedy_move(s,i+1)\n",
    "        \n",
    "        # use the old state for evaluation\n",
    "        all_states.append(s)\n",
    "        # increment the counter for a given state and action\n",
    "        agent.incre_counter(s,move)\n",
    "        # move\n",
    "        s,r,game_ended,_ = env.step(move)\n",
    "    \n",
    "        # save everything\n",
    "#         all_states.append(s)\n",
    "        all_rewards.append(r)\n",
    "        all_actions.append(move)\n",
    "        \n",
    "\n",
    "        # Evaluate policy\n",
    "    agent.policy_evaluation(all_states,all_rewards,all_actions)\n",
    "        \n",
    "        ### END OF EPISODE ###\n",
    "\n",
    "\n"
   ]
  },
  {
   "cell_type": "markdown",
   "id": "ffa42f8e",
   "metadata": {},
   "source": [
    "## Plotting"
   ]
  },
  {
   "cell_type": "code",
   "execution_count": 14,
   "id": "d468041e",
   "metadata": {},
   "outputs": [
    {
     "name": "stderr",
     "output_type": "stream",
     "text": [
      "<ipython-input-14-7f66e47054f4>:9: UserWarning: FixedFormatter should only be used together with FixedLocator\n",
      "  ax.set_yticklabels(range(13,22))\n",
      "<ipython-input-14-7f66e47054f4>:10: UserWarning: FixedFormatter should only be used together with FixedLocator\n",
      "  ax.set_xticklabels(range(1,11,2))\n",
      "<ipython-input-14-7f66e47054f4>:18: UserWarning: FixedFormatter should only be used together with FixedLocator\n",
      "  ax.set_yticklabels(range(13,22))\n",
      "<ipython-input-14-7f66e47054f4>:19: UserWarning: FixedFormatter should only be used together with FixedLocator\n",
      "  ax.set_xticklabels(range(1,11,2))\n"
     ]
    },
    {
     "data": {
      "image/png": "[encoded data removed]",
      "text/plain": [
       "<Figure size 1000x500 with 3 Axes>"
      ]
     },
     "metadata": {
      "needs_background": "light"
     },
     "output_type": "display_data"
    }
   ],
   "source": [
    "fig = plt.figure(figsize=(10,5))\n",
    "\n",
    "axes = fig.subplots(1,2,squeeze=False)\n",
    "\n",
    "ax = axes[0,0]\n",
    "\n",
    "\n",
    "c = ax.pcolormesh(agent.q[13:22,1:,0,:].max(2),vmin=-1,vmax=1)\n",
    "ax.set_yticklabels(range(13,22))\n",
    "ax.set_xticklabels(range(1,11,2))\n",
    "ax.set_xlabel('Dealer Showing')\n",
    "ax.set_ylabel('Player Sum')\n",
    "ax.set_title('No Usable Aces')\n",
    "# plt.colorbar(c)\n",
    "\n",
    "ax = axes[0,1]\n",
    "c = ax.pcolormesh(agent.q[13:22,1:,1,:].max(2),vmin=-1,vmax=1)\n",
    "ax.set_yticklabels(range(13,22))\n",
    "ax.set_xticklabels(range(1,11,2))\n",
    "ax.set_title('Usable Aces')\n",
    "ax.set_xlabel('Dealer Showing')\n",
    "plt.colorbar(c)\n",
    "\n",
    "plt.show()\n",
    "\n"
   ]
  },
  {
   "cell_type": "code",
   "execution_count": 15,
   "id": "20aa0a4d",
   "metadata": {},
   "outputs": [
    {
     "name": "stderr",
     "output_type": "stream",
     "text": [
      "<ipython-input-15-ea3605012f37>:9: UserWarning: FixedFormatter should only be used together with FixedLocator\n",
      "  ax.set_yticklabels(range(13,22))\n",
      "<ipython-input-15-ea3605012f37>:10: UserWarning: FixedFormatter should only be used together with FixedLocator\n",
      "  ax.set_xticklabels(range(1,11,2))\n",
      "<ipython-input-15-ea3605012f37>:18: UserWarning: FixedFormatter should only be used together with FixedLocator\n",
      "  ax.set_yticklabels(range(13,22))\n",
      "<ipython-input-15-ea3605012f37>:19: UserWarning: FixedFormatter should only be used together with FixedLocator\n",
      "  ax.set_xticklabels(range(1,11,2))\n"
     ]
    },
    {
     "data": {
      "image/png": "[encoded data removed]",
      "text/plain": [
       "<Figure size 1000x500 with 3 Axes>"
      ]
     },
     "metadata": {
      "needs_background": "light"
     },
     "output_type": "display_data"
    }
   ],
   "source": [
    "fig = plt.figure(figsize=(10,5))\n",
    "\n",
    "axes = fig.subplots(1,2,squeeze=False)\n",
    "\n",
    "ax = axes[0,0]\n",
    "\n",
    "\n",
    "c = ax.contour(agent.q[13:22,1:,0,:].max(2),levels=1,vmin=-1,vmax=1)\n",
    "ax.set_yticklabels(range(13,22))\n",
    "ax.set_xticklabels(range(1,11,2))\n",
    "ax.set_xlabel('Dealer Showing')\n",
    "ax.set_ylabel('Player Sum')\n",
    "ax.set_title('No Usable Aces')\n",
    "# plt.colorbar(c)\n",
    "\n",
    "ax = axes[0,1]\n",
    "c = ax.contour(agent.q[13:22,1:,1,:].max(2),levels=1,vmin=-1,vmax=1)\n",
    "ax.set_yticklabels(range(13,22))\n",
    "ax.set_xticklabels(range(1,11,2))\n",
    "ax.set_title('Usable Aces')\n",
    "ax.set_xlabel('Dealer Showing')\n",
    "plt.colorbar(c)\n",
    "\n",
    "plt.show()"
   ]
  },
  {
   "cell_type": "code",
   "execution_count": null,
   "id": "15695c5f",
   "metadata": {},
   "outputs": [],
   "source": []
  },
  {
   "cell_type": "code",
   "execution_count": null,
   "id": "c5fd09e2",
   "metadata": {},
   "outputs": [],
   "source": []
  },
  {
   "cell_type": "code",
   "execution_count": null,
   "id": "43f1c57b",
   "metadata": {},
   "outputs": [],
   "source": []
  }
 ],
 "metadata": {
  "kernelspec": {
   "display_name": "rl_course",
   "language": "python",
   "name": "rl_course"
  },
  "language_info": {
   "codemirror_mode": {
    "name": "ipython",
    "version": 3
   },
   "file_extension": ".py",
   "mimetype": "text/x-python",
   "name": "python",
   "nbconvert_exporter": "python",
   "pygments_lexer": "ipython3",
   "version": "3.8.10"
  }
 },
 "nbformat": 4,
 "nbformat_minor": 5
}
