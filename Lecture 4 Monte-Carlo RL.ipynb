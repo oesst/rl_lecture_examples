{
 "cells": [
  {
   "cell_type": "code",
   "execution_count": 314,
   "id": "ff4299e7",
   "metadata": {},
   "outputs": [
    {
     "data": {
      "text/html": [
       "<style>.container { width:60% !important; }</style>"
      ],
      "text/plain": [
       "<IPython.core.display.HTML object>"
      ]
     },
     "metadata": {},
     "output_type": "display_data"
    }
   ],
   "source": [
    "from IPython.core.display import display, HTML\n",
    "display(HTML(\"<style>.container { width:60% !important; }</style>\"))"
   ]
  },
  {
   "cell_type": "markdown",
   "id": "f19dbb8b",
   "metadata": {},
   "source": [
    "# Monte Carlo Reinforcement Learning\n",
    "\n",
    "So far, we only considered planning, meaning that we assumed that we know the underlying model of the environment and that the agent has access to it. \n",
    "Now, we considere the case in which do not have access to the full MDP. That is, we do __model-free prediction__ now.\n",
    "\n",
    "To illustrate this, we implement the black jack example from the RL Lecture 4 by Davin Silver for Monte Carlo Reinforcement Learning [see example](https://youtu.be/PnHCvfgC_ZA?t=1003)\n",
    "\n",
    "We do that by learning directly from episodes of experience.\n",
    "\n",
    "Monte Carlo (MC) method properties:\n",
    "* Learns from complete episodes (no bootstrapping)\n",
    "* Samples are created by a random walk or informed policy?\n",
    "* Uses the simplest idea that value=mean(return) of different samples\n",
    "* Works only with episodic MDPS (all episodes must terminate)\n",
    "\n",
    "For now, we do not care about the optimal policy but just about figuring out the value function.\n",
    "\n",
    "Remember: $ G_t = R_{t+1} + \\gamma R_{t+2} + ... + \\sum_{k=0} \\gamma^k \\cdot R_{t+k+1}$\n",
    "\n",
    "__Algorithm:__\n",
    "* Update $V(s)$ incrementally after each episode\n",
    "* For each state $S_t$ with return $G_t$ do:\n",
    "    * $N(S_t) \\gets N(S_t) +1$\n",
    "    * $V(S_t) \\gets V(S_t) + \\frac{1}{N(S_t)} \\cdot (G_t - V(S_t))$\n",
    "        * Which corresponds to the _actual return_ ($G_t$) - the _estimated return_ ($V(S_t)$)\n",
    "        * $\\frac{1}{N(S_t)}$ is a weighting factor that let us forget old episodes slowly\n",
    "        \n",
    "  "
   ]
  },
  {
   "cell_type": "code",
   "execution_count": 2,
   "id": "64046874",
   "metadata": {},
   "outputs": [],
   "source": [
    "import numpy as np\n",
    "import matplotlib.pyplot as plt\n",
    "import plotting\n",
    "plotting.set_layout(drawing_size=15)\n"
   ]
  },
  {
   "cell_type": "markdown",
   "id": "eb81f80d",
   "metadata": {},
   "source": [
    "## The Environment\n",
    "\n",
    "For this example we use the python package [gym](https://gym.openai.com/docs/) which provides a ready-to-use implementation of a BlackJack environment.\n",
    "\n",
    "The states are stored in this tuple format: \\n(Agent's score , Dealer's visible score, and whether or not the agent has a usable ace)\n",
    "\n",
    "Here, we can look at the number of different states:"
   ]
  },
  {
   "cell_type": "code",
   "execution_count": 21,
   "id": "01019081",
   "metadata": {},
   "outputs": [
    {
     "data": {
      "text/plain": [
       "Tuple(Discrete(32), Discrete(11), Discrete(2))"
      ]
     },
     "execution_count": 21,
     "metadata": {},
     "output_type": "execute_result"
    }
   ],
   "source": [
    "from gym import envs\n",
    "env = gym.make('Blackjack-v0')\n",
    "env.observation_space"
   ]
  },
  {
   "cell_type": "markdown",
   "id": "6430f6d8",
   "metadata": {},
   "source": [
    "And the number of actions we can take:"
   ]
  },
  {
   "cell_type": "code",
   "execution_count": 41,
   "id": "7beb0e02",
   "metadata": {
    "scrolled": true
   },
   "outputs": [
    {
     "data": {
      "text/plain": [
       "Discrete(2)"
      ]
     },
     "execution_count": 41,
     "metadata": {},
     "output_type": "execute_result"
    }
   ],
   "source": [
    "env.action_space"
   ]
  },
  {
   "cell_type": "markdown",
   "id": "a2dec90f",
   "metadata": {},
   "source": [
    "To start a game call `env.reset()` which will return the obersavtion space"
   ]
  },
  {
   "cell_type": "code",
   "execution_count": 98,
   "id": "d4fe2df0",
   "metadata": {},
   "outputs": [
    {
     "data": {
      "text/plain": [
       "(20, 10, False)"
      ]
     },
     "execution_count": 98,
     "metadata": {},
     "output_type": "execute_result"
    }
   ],
   "source": [
    "env.reset()"
   ]
  },
  {
   "cell_type": "markdown",
   "id": "e314e91e",
   "metadata": {},
   "source": [
    "We can take two different actions: `hit` = 1 or `stay` = 0. \n",
    "\n",
    "The result of this function call shows the _obersavtion space_, the reward (winning=+1, loosing =-1) and if the game is over, "
   ]
  },
  {
   "cell_type": "code",
   "execution_count": 101,
   "id": "476cba92",
   "metadata": {},
   "outputs": [
    {
     "data": {
      "text/plain": [
       "((36, 10, False), -1.0, True, {})"
      ]
     },
     "execution_count": 101,
     "metadata": {},
     "output_type": "execute_result"
    }
   ],
   "source": [
    "env.step(1)"
   ]
  },
  {
   "cell_type": "markdown",
   "id": "0b89a1cb",
   "metadata": {},
   "source": [
    "## Define the Agent\n",
    "\n"
   ]
  },
  {
   "cell_type": "code",
   "execution_count": 281,
   "id": "a50eca49",
   "metadata": {},
   "outputs": [],
   "source": [
    "\n",
    "class agents():\n",
    "    \"\"\" This class defines the agent \n",
    "    \"\"\"\n",
    "    \n",
    "    def __init__(self, state_space, action_space, gamma=1):\n",
    "        \"\"\" TODO \"\"\" \n",
    "        \n",
    "        # Store the discount factor \n",
    "        self.gamma = gamma\n",
    "        \n",
    "        n_player_states = state_space[0].n\n",
    "        n_dealer_states = state_space[1].n\n",
    "        n_usable_ace = state_space[0].n\n",
    "        \n",
    "        # two available actions stay (0) and hit (1)\n",
    "        actions = range(action_space.n)\n",
    "            \n",
    "        # Store the value function for each state\n",
    "        # start with zero\n",
    "        self.v = np.zeros((n_player_states,n_dealer_states,n_usable_ace))\n",
    "        \n",
    "        # incremental counter for a state\n",
    "        self.N = np.zeros((n_player_states,n_dealer_states,n_usable_ace))\n",
    "\n",
    "    \n",
    "    def random_move(self):\n",
    "        # Do a random move, i.e. choose randomly 0 or 1\n",
    "        return np.random.randint(0,2)\n",
    "    \n",
    "    def incre_counter(self, state):\n",
    "        # Increments the counter for a given state\n",
    "        \n",
    "        # convert the true/false state to 0/1\n",
    "        s2 = 1 if state[2] else 0\n",
    "        \n",
    "        # increment the counter for that state\n",
    "        self.N[state[0],state[1],s2] += 1\n",
    "    \n",
    "    def policy_evaluation(self,all_states,all_rewards):\n",
    "        # Update V(s) incrementally \n",
    "        for i_s,s in enumerate(all_states):\n",
    "\n",
    "            # convert the true/false state to 0/1\n",
    "            s2 = 1 if s[2] else 0\n",
    "            # Get the value function for that state\n",
    "            V_s = self.v[s[0],s[1],s2]\n",
    "            # calculate the total reward\n",
    "            G = np.sum([agent.gamma**k * r for k,r in enumerate(all_rewards)])\n",
    "    #         print('reward: '+ str(G))\n",
    "    #         print('counter: '+ str(agent.N[s[0],s[1],s2]))\n",
    "            self.v[s[0],s[1],s2] = V_s + 1/self.N[s[0],s[1],s2] * (G - V_s)"
   ]
  },
  {
   "cell_type": "code",
   "execution_count": 310,
   "id": "9a108667",
   "metadata": {
    "scrolled": false
   },
   "outputs": [],
   "source": [
    "# how many episodes should be played\n",
    "n_episodes = 10000\n",
    "# initialize the agent. let it know the number of states and actions\n",
    "agent = agents(env.observation_space, env.action_space)\n",
    "\n",
    "# Incremental MC updates\n",
    "# Play one episode then update V(s)\n",
    "for i in range(n_episodes):\n",
    "    all_states = []\n",
    "    all_rewards = []\n",
    "    \n",
    "    # start the game\n",
    "    s = env.reset()\n",
    "    # save initiale states and update counter\n",
    "    all_states.append(s)\n",
    "    agent.incre_counter(s)\n",
    "\n",
    "    # play until environment tells you that the game is over\n",
    "    game_ended = False\n",
    "    while not game_ended:\n",
    "        # increment counter\n",
    "        \n",
    "        # End the game if sum of cards is >20\n",
    "        if states[0] >= 20:\n",
    "            move = 0\n",
    "        else: \n",
    "            # otherwise do a random move. that should speed up the learning process\n",
    "            move = agent.random_move()\n",
    "        s,r,game_ended,_ = env.step(move)\n",
    "    \n",
    "        # save everything\n",
    "        all_states.append(s)\n",
    "        all_rewards.append(r)\n",
    "        # increment the counter for a given state\n",
    "        agent.incre_counter(s)\n",
    "\n",
    "        \n",
    "    ### END OF EPISODE ###\n",
    "    # do the policy evaluation\n",
    "    agent.policy_evaluation(all_states,all_rewards)\n",
    "    \n",
    "\n"
   ]
  },
  {
   "cell_type": "markdown",
   "id": "571c3c9b",
   "metadata": {},
   "source": [
    "## Plotting"
   ]
  },
  {
   "cell_type": "code",
   "execution_count": 313,
   "id": "474c1835",
   "metadata": {},
   "outputs": [
    {
     "name": "stderr",
     "output_type": "stream",
     "text": [
      "<ipython-input-313-dbe280ae32a7>:9: UserWarning: FixedFormatter should only be used together with FixedLocator\n",
      "  ax.set_yticklabels(range(13,22))\n",
      "<ipython-input-313-dbe280ae32a7>:17: UserWarning: FixedFormatter should only be used together with FixedLocator\n",
      "  ax.set_yticklabels(range(13,22))\n"
     ]
    },
    {
     "data": {
      "image/png": "[encoded data removed]",
      "text/plain": [
       "<Figure size 1000x500 with 3 Axes>"
      ]
     },
     "metadata": {
      "needs_background": "light"
     },
     "output_type": "display_data"
    }
   ],
   "source": [
    "fig = plt.figure(figsize=(10,5))\n",
    "\n",
    "axes = fig.subplots(1,2,squeeze=False)\n",
    "\n",
    "ax = axes[0,0]\n",
    "\n",
    "\n",
    "c = ax.pcolormesh(agent.v[12:21,1:,0],vmin=-1,vmax=1)\n",
    "ax.set_yticklabels(range(13,22))\n",
    "ax.set_xlabel('Dealer Showing')\n",
    "ax.set_ylabel('Player Sum')\n",
    "ax.set_title('No Usable Aces')\n",
    "# plt.colorbar(c)\n",
    "\n",
    "ax = axes[0,1]\n",
    "c = ax.pcolormesh(agent.v[12:21,1:,1],vmin=-1,vmax=1)\n",
    "ax.set_yticklabels(range(13,22))\n",
    "ax.set_title('Usable Aces')\n",
    "ax.set_xlabel('Dealer Showing')\n",
    "plt.colorbar(c)\n",
    "\n",
    "plt.show()\n",
    "\n"
   ]
  },
  {
   "cell_type": "code",
   "execution_count": null,
   "id": "7d9d956f",
   "metadata": {},
   "outputs": [],
   "source": []
  },
  {
   "cell_type": "code",
   "execution_count": null,
   "id": "90c64ea5",
   "metadata": {},
   "outputs": [],
   "source": []
  },
  {
   "cell_type": "code",
   "execution_count": null,
   "id": "931400ec",
   "metadata": {},
   "outputs": [],
   "source": []
  },
  {
   "cell_type": "code",
   "execution_count": null,
   "id": "e80511ae",
   "metadata": {},
   "outputs": [],
   "source": []
  }
 ],
 "metadata": {
  "kernelspec": {
   "display_name": "rl_course",
   "language": "python",
   "name": "rl_course"
  },
  "language_info": {
   "codemirror_mode": {
    "name": "ipython",
    "version": 3
   },
   "file_extension": ".py",
   "mimetype": "text/x-python",
   "name": "python",
   "nbconvert_exporter": "python",
   "pygments_lexer": "ipython3",
   "version": "3.8.10"
  }
 },
 "nbformat": 4,
 "nbformat_minor": 5
}
